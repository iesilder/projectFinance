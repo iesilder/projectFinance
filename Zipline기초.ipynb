{
  "nbformat": 4,
  "nbformat_minor": 0,
  "metadata": {
    "colab": {
      "name": "Zipline기초.ipynb",
      "version": "0.3.2",
      "provenance": [],
      "include_colab_link": true
    },
    "kernelspec": {
      "name": "python3",
      "display_name": "Python 3"
    }
  },
  "cells": [
    {
      "cell_type": "markdown",
      "metadata": {
        "id": "view-in-github",
        "colab_type": "text"
      },
      "source": [
        "[View in Colaboratory](https://colab.research.google.com/github/iesilder/projectFinance/blob/master/Zipline%EA%B8%B0%EC%B4%88.ipynb)"
      ]
    },
    {
      "metadata": {
        "id": "bS7K5Af929jg",
        "colab_type": "code",
        "colab": {
          "base_uri": "https://localhost:8080/",
          "height": 2184
        },
        "outputId": "472a27d2-c4b4-41e6-91ec-2cd0c854826c"
      },
      "cell_type": "code",
      "source": [
        "# 라이브러리 설치\n",
        "!pip install zipline"
      ],
      "execution_count": 1,
      "outputs": [
        {
          "output_type": "stream",
          "text": [
            "Collecting zipline\n",
            "\u001b[?25l  Downloading https://files.pythonhosted.org/packages/be/59/8c5802a7897c1095fdc409fb557f04df8f75c37174e80d2ba58c8d8a6488/zipline-1.3.0.tar.gz (2.5MB)\n",
            "\u001b[K    100% |████████████████████████████████| 2.5MB 8.5MB/s \n",
            "\u001b[?25hRequirement already satisfied: pip>=7.1.0 in /usr/local/lib/python3.6/dist-packages (from zipline) (18.0)\n",
            "Requirement already satisfied: setuptools>18.0 in /usr/local/lib/python3.6/dist-packages (from zipline) (39.1.0)\n",
            "Collecting Logbook>=0.12.5 (from zipline)\n",
            "\u001b[?25l  Downloading https://files.pythonhosted.org/packages/36/4b/b610bee18d5cfc4cec7dde056639994e9b34991e4c57816bfff0f3d0ac33/Logbook-1.4.0.tar.gz (84kB)\n",
            "\u001b[K    100% |████████████████████████████████| 92kB 18.4MB/s \n",
            "\u001b[?25hRequirement already satisfied: pytz>=2016.4 in /usr/local/lib/python3.6/dist-packages (from zipline) (2018.5)\n",
            "Requirement already satisfied: numpy>=1.11.1 in /usr/local/lib/python3.6/dist-packages (from zipline) (1.14.5)\n",
            "Collecting requests-file>=1.4.1 (from zipline)\n",
            "  Downloading https://files.pythonhosted.org/packages/23/9c/6e63c23c39e53d3df41c77a3d05a49a42c4e1383a6d2a5e3233161b89dbf/requests_file-1.4.3-py2.py3-none-any.whl\n",
            "Requirement already satisfied: scipy>=0.17.1 in /usr/local/lib/python3.6/dist-packages (from zipline) (0.19.1)\n",
            "Requirement already satisfied: pandas<=0.22,>=0.18.1 in /usr/local/lib/python3.6/dist-packages (from zipline) (0.22.0)\n",
            "Collecting pandas-datareader>=0.2.1 (from zipline)\n",
            "\u001b[?25l  Downloading https://files.pythonhosted.org/packages/be/76/639c60ede26458dadf76bacaa9cbcc76f8cc5082fb2b2d90d0a90c699d36/pandas_datareader-0.6.0-py2.py3-none-any.whl (103kB)\n",
            "\u001b[K    100% |████████████████████████████████| 112kB 16.5MB/s \n",
            "\u001b[?25hRequirement already satisfied: patsy>=0.4.0 in /usr/local/lib/python3.6/dist-packages (from zipline) (0.5.0)\n",
            "Requirement already satisfied: statsmodels>=0.6.1 in /usr/local/lib/python3.6/dist-packages (from zipline) (0.8.0)\n",
            "Requirement already satisfied: python-dateutil>=2.4.2 in /usr/local/lib/python3.6/dist-packages (from zipline) (2.5.3)\n",
            "Requirement already satisfied: six>=1.10.0 in /usr/local/lib/python3.6/dist-packages (from zipline) (1.11.0)\n",
            "Requirement already satisfied: requests>=2.9.1 in /usr/local/lib/python3.6/dist-packages (from zipline) (2.18.4)\n",
            "Collecting Cython>=0.25.2 (from zipline)\n",
            "\u001b[?25l  Downloading https://files.pythonhosted.org/packages/1c/10/ffebdb9faa901c83b69ab7040a1f5f3b2c71899be141752a6d466718c491/Cython-0.28.4-cp36-cp36m-manylinux1_x86_64.whl (3.4MB)\n",
            "\u001b[K    100% |████████████████████████████████| 3.4MB 5.7MB/s \n",
            "\u001b[?25hCollecting cyordereddict>=0.2.2 (from zipline)\n",
            "\u001b[?25l  Downloading https://files.pythonhosted.org/packages/d1/1a/364cbfd927be1b743c7f0a985a7f1f7e8a51469619f9fefe4ee9240ba210/cyordereddict-1.0.0.tar.gz (138kB)\n",
            "\u001b[K    100% |████████████████████████████████| 143kB 28.1MB/s \n",
            "\u001b[?25hCollecting bottleneck>=1.0.0 (from zipline)\n",
            "\u001b[?25l  Downloading https://files.pythonhosted.org/packages/05/ae/cedf5323f398ab4e4ff92d6c431a3e1c6a186f9b41ab3e8258dff786a290/Bottleneck-1.2.1.tar.gz (105kB)\n",
            "\u001b[K    100% |████████████████████████████████| 112kB 14.3MB/s \n",
            "\u001b[?25hCollecting contextlib2>=0.4.0 (from zipline)\n",
            "  Downloading https://files.pythonhosted.org/packages/a2/71/8273a7eeed0aff6a854237ab5453bc9aa67deb49df4832801c21f0ff3782/contextlib2-0.5.5-py2.py3-none-any.whl\n",
            "Requirement already satisfied: decorator>=4.0.0 in /usr/local/lib/python3.6/dist-packages (from zipline) (4.3.0)\n",
            "Collecting networkx<2.0,>=1.9.1 (from zipline)\n",
            "\u001b[?25l  Downloading https://files.pythonhosted.org/packages/d3/2c/e473e54afc9fae58dfa97066ef6709a7e35a1dd1c28c5a3842989322be00/networkx-1.11-py2.py3-none-any.whl (1.3MB)\n",
            "\u001b[K    100% |████████████████████████████████| 1.3MB 14.5MB/s \n",
            "\u001b[?25hCollecting numexpr>=2.6.1 (from zipline)\n",
            "\u001b[?25l  Downloading https://files.pythonhosted.org/packages/24/a6/87a4fb2a4474fef99f12fbd4d99d54e32d5539b28b085b5e3f7b37756c73/numexpr-2.6.6-cp36-cp36m-manylinux1_x86_64.whl (162kB)\n",
            "\u001b[K    100% |████████████████████████████████| 163kB 27.3MB/s \n",
            "\u001b[?25hCollecting bcolz<1,>=0.12.1 (from zipline)\n",
            "\u001b[?25l  Downloading https://files.pythonhosted.org/packages/6c/8b/1ffa01f872cac36173c5eb95b58c01040d8d25f1b242c48577f4104cd3ab/bcolz-0.12.1.tar.gz (622kB)\n",
            "\u001b[K    100% |████████████████████████████████| 624kB 22.2MB/s \n",
            "\u001b[?25hCollecting click>=4.0.0 (from zipline)\n",
            "\u001b[?25l  Downloading https://files.pythonhosted.org/packages/34/c1/8806f99713ddb993c5366c362b2f908f18269f8d792aff1abfd700775a77/click-6.7-py2.py3-none-any.whl (71kB)\n",
            "\u001b[K    100% |████████████████████████████████| 71kB 18.4MB/s \n",
            "\u001b[?25hRequirement already satisfied: toolz>=0.8.2 in /usr/local/lib/python3.6/dist-packages (from zipline) (0.9.0)\n",
            "Collecting multipledispatch>=0.4.8 (from zipline)\n",
            "  Downloading https://files.pythonhosted.org/packages/d1/0d/0d51971308af74de1a3a66e52cb518cb14c3fa9b0c6736105eacf77d2d09/multipledispatch-0.5.0-py2.py3-none-any.whl\n",
            "Requirement already satisfied: MarkupSafe>=0.23 in /usr/local/lib/python3.6/dist-packages (from zipline) (1.0)\n",
            "Collecting Mako>=1.0.1 (from zipline)\n",
            "\u001b[?25l  Downloading https://files.pythonhosted.org/packages/eb/f3/67579bb486517c0d49547f9697e36582cd19dafb5df9e687ed8e22de57fa/Mako-1.0.7.tar.gz (564kB)\n",
            "\u001b[K    100% |████████████████████████████████| 573kB 21.3MB/s \n",
            "\u001b[?25hCollecting sqlalchemy>=1.0.8 (from zipline)\n"
          ],
          "name": "stdout"
        },
        {
          "output_type": "stream",
          "text": [
            "\u001b[?25l  Downloading https://files.pythonhosted.org/packages/8a/c2/29491103fd971f3988e90ee3a77bb58bad2ae2acd6e8ea30a6d1432c33a3/SQLAlchemy-1.2.10.tar.gz (5.6MB)\n",
            "\u001b[K    100% |████████████████████████████████| 5.6MB 5.3MB/s \n",
            "\u001b[?25hCollecting alembic>=0.7.7 (from zipline)\n",
            "\u001b[?25l  Downloading https://files.pythonhosted.org/packages/96/c7/a4129db460c3e0ea8fea0c9eb5de6680d38ea6b6dcffcb88898ae42e170a/alembic-1.0.0-py2.py3-none-any.whl (158kB)\n",
            "\u001b[K    100% |████████████████████████████████| 163kB 25.4MB/s \n",
            "\u001b[?25hCollecting sortedcontainers>=1.4.4 (from zipline)\n",
            "  Downloading https://files.pythonhosted.org/packages/cb/53/fe764fc8042e13245b50c4032fb2f857bc1e502aaca83063dcdf6b94d223/sortedcontainers-2.0.4-py2.py3-none-any.whl\n",
            "Collecting intervaltree>=2.1.0 (from zipline)\n",
            "  Downloading https://files.pythonhosted.org/packages/ca/c1/450d109b70fa58ca9d77972b02f69222412f9175ccf99fdeaf167be9583c/intervaltree-2.1.0.tar.gz\n",
            "Collecting lru-dict>=1.1.4 (from zipline)\n",
            "  Downloading https://files.pythonhosted.org/packages/00/a5/32ed6e10246cd341ca8cc205acea5d208e4053f48a4dced2b1b31d45ba3f/lru-dict-1.1.6.tar.gz\n",
            "Collecting empyrical>=0.5.0 (from zipline)\n",
            "\u001b[?25l  Downloading https://files.pythonhosted.org/packages/7b/55/a01b05162b764830dbbac868462f44cd847a5b6523a01ca9f955721819da/empyrical-0.5.0.tar.gz (49kB)\n",
            "\u001b[K    100% |████████████████████████████████| 51kB 16.7MB/s \n",
            "\u001b[?25hCollecting tables>=3.3.0 (from zipline)\n",
            "\u001b[?25l  Downloading https://files.pythonhosted.org/packages/d7/1b/21f4c7f296b718575c17ef25e61c05742a283c45077b4c8d5a190b3e0b59/tables-3.4.4-cp36-cp36m-manylinux1_x86_64.whl (3.8MB)\n",
            "\u001b[K    100% |████████████████████████████████| 3.8MB 8.9MB/s \n",
            "\u001b[?25hCollecting trading-calendars>=1.0.1 (from zipline)\n",
            "\u001b[?25l  Downloading https://files.pythonhosted.org/packages/a8/c0/4718349bf8621ae86c30ecc5b0f5fc57035862545a11a6a77b19605f1360/trading_calendars-1.1.0.tar.gz (54kB)\n",
            "\u001b[K    100% |████████████████████████████████| 61kB 16.9MB/s \n",
            "\u001b[?25hCollecting wrapt (from pandas-datareader>=0.2.1->zipline)\n",
            "  Downloading https://files.pythonhosted.org/packages/a0/47/66897906448185fcb77fc3c2b1bc20ed0ecca81a0f2f88eda3fc5a34fc3d/wrapt-1.10.11.tar.gz\n",
            "Collecting lxml (from pandas-datareader>=0.2.1->zipline)\n",
            "\u001b[?25l  Downloading https://files.pythonhosted.org/packages/d1/81/5a3e70c8adc20fb295a2f4c9fdf09af8295c7a00ccec6ee3d31084cbf272/lxml-4.2.3-cp36-cp36m-manylinux1_x86_64.whl (5.9MB)\n",
            "\u001b[K    100% |████████████████████████████████| 5.9MB 4.6MB/s \n",
            "\u001b[?25hCollecting requests-ftp (from pandas-datareader>=0.2.1->zipline)\n",
            "  Downloading https://files.pythonhosted.org/packages/3d/ca/14b2ad1e93b5195eeaf56b86b7ecfd5ea2d5754a68d17aeb1e5b9f95b3cf/requests-ftp-0.3.1.tar.gz\n",
            "Requirement already satisfied: certifi>=2017.4.17 in /usr/local/lib/python3.6/dist-packages (from requests>=2.9.1->zipline) (2018.4.16)\n",
            "Requirement already satisfied: idna<2.7,>=2.5 in /usr/local/lib/python3.6/dist-packages (from requests>=2.9.1->zipline) (2.6)\n",
            "Requirement already satisfied: chardet<3.1.0,>=3.0.2 in /usr/local/lib/python3.6/dist-packages (from requests>=2.9.1->zipline) (3.0.4)\n",
            "Requirement already satisfied: urllib3<1.23,>=1.21.1 in /usr/local/lib/python3.6/dist-packages (from requests>=2.9.1->zipline) (1.22)\n",
            "Collecting python-editor>=0.3 (from alembic>=0.7.7->zipline)\n",
            "  Downloading https://files.pythonhosted.org/packages/65/1e/adf6e000ea5dc909aa420352d6ba37f16434c8a3c2fa030445411a1ed545/python-editor-1.0.3.tar.gz\n",
            "Building wheels for collected packages: zipline, Logbook, cyordereddict, bottleneck, bcolz, Mako, sqlalchemy, intervaltree, lru-dict, empyrical, trading-calendars, wrapt, requests-ftp, python-editor\n",
            "  Running setup.py bdist_wheel for zipline ... \u001b[?25l-\b \b\\\b \b|\b \b/\b \b-\b \b\\\b \b|\b \b/\b \b-\b \b\\"
          ],
          "name": "stdout"
        },
        {
          "output_type": "stream",
          "text": [
            "\b \b|\b \b/\b \b-\b \b\\\b \b|\b \b/\b \b-\b \b\\\b \b|\b \b/\b \b-\b \b\\\b \b|\b \b/\b \b-\b \b\\\b \b|\b \b/\b \b-\b \b\\\b \b|\b \b/\b \b-\b \b\\\b \b|\b \b/\b \b-\b \b\\\b \b|\b \b/\b \b-\b \b\\\b \b|\b \b/\b \b-\b \b\\\b \b|\b \bdone\n",
            "\u001b[?25h  Stored in directory: /content/.cache/pip/wheels/a4/d6/67/f303ab028b004bf8e00c05b5b04fba83d8ec238b6547becdb7\n",
            "  Running setup.py bdist_wheel for Logbook ... \u001b[?25l-\b \b\\\b \bdone\n",
            "\u001b[?25h  Stored in directory: /content/.cache/pip/wheels/3a/50/0d/b67da0bb2a56061970cdf37a5e95fb07d9106200f33044616e\n",
            "  Running setup.py bdist_wheel for cyordereddict ... \u001b[?25l-\b \b\\\b \b|\b \bdone\n",
            "\u001b[?25h  Stored in directory: /content/.cache/pip/wheels/0b/9d/8b/5bf3e22c1edd59b50f11bb19dec9dfcfe5a479fc7ace02b61f\n",
            "  Running setup.py bdist_wheel for bottleneck ... \u001b[?25l-\b \b\\\b \b|\b \b/\b \b-\b \b\\\b \b|\b \b/\b \bdone\n",
            "\u001b[?25h  Stored in directory: /content/.cache/pip/wheels/f2/bf/ec/e0f39aa27001525ad455139ee57ec7d0776fe074dfd78c97e4\n",
            "  Running setup.py bdist_wheel for bcolz ... \u001b[?25l-\b \b\\\b \b|\b \b/\b \b-\b \b\\\b \b|\b \b/\b \b-\b \b\\\b \b|\b \b/\b \b-\b \b\\\b \b|\b \b/\b \b-\b \b\\\b \b|\b \b/\b \b-\b \b\\\b \b|\b \b/\b \b-\b \b\\\b \bdone\n",
            "\u001b[?25h  Stored in directory: /content/.cache/pip/wheels/c5/cc/1b/2cf1f88959af5d7f4d449b7fc6c9452d0ecbd86fd61a9ee376\n",
            "  Running setup.py bdist_wheel for Mako ... \u001b[?25l-\b \b\\\b \bdone\n",
            "\u001b[?25h  Stored in directory: /content/.cache/pip/wheels/15/35/25/dbcb848832ccb1a4b4ad23f529badfd3bce9bf88017f7ca510\n",
            "  Running setup.py bdist_wheel for sqlalchemy ... \u001b[?25l-\b \b\\\b \b|\b \b/\b \b-\b \b\\\b \b|\b \b/\b \bdone\n",
            "\u001b[?25h  Stored in directory: /content/.cache/pip/wheels/3b/5e/6b/6716bdf0815da6a7e4526c1f39d6e7d8cbb5eb5054f83f98fb\n",
            "  Running setup.py bdist_wheel for intervaltree ... \u001b[?25l-\b \b\\\b \bdone\n",
            "\u001b[?25h  Stored in directory: /content/.cache/pip/wheels/6b/cf/b0/f7ef2d0f504d26f3e9e70c2369e5725591ccfaf67d528fcbc5\n",
            "  Running setup.py bdist_wheel for lru-dict ... \u001b[?25l-\b \b\\\b \bdone\n",
            "\u001b[?25h  Stored in directory: /content/.cache/pip/wheels/b7/ef/06/fbdd555907a7d438fb33e4c8675f771ff1cf41917284c51ebf\n",
            "  Running setup.py bdist_wheel for empyrical ... \u001b[?25l-\b \bdone\n",
            "\u001b[?25h  Stored in directory: /content/.cache/pip/wheels/83/14/73/34fb27552601518d28bd0813d75124be76d94ab29152c69112\n",
            "  Running setup.py bdist_wheel for trading-calendars ... \u001b[?25l-\b \bdone\n",
            "\u001b[?25h  Stored in directory: /content/.cache/pip/wheels/ec/f9/7b/b6b1adfae7a887e281685fe8ef92f429a901530732937557e7\n",
            "  Running setup.py bdist_wheel for wrapt ... \u001b[?25l-\b \b\\\b \bdone\n",
            "\u001b[?25h  Stored in directory: /content/.cache/pip/wheels/48/5d/04/22361a593e70d23b1f7746d932802efe1f0e523376a74f321e\n",
            "  Running setup.py bdist_wheel for requests-ftp ... \u001b[?25l-\b \bdone\n",
            "\u001b[?25h  Stored in directory: /content/.cache/pip/wheels/2a/98/32/37195e45a3392a73d9f65c488cbea30fe5bad76aaef4d6b020\n",
            "  Running setup.py bdist_wheel for python-editor ... \u001b[?25l-\b \bdone\n",
            "\u001b[?25h  Stored in directory: /content/.cache/pip/wheels/36/e0/98/ba386b125a00ea9dd52e2c16aa2ec0adbbd639b84bfe2e001d\n",
            "Successfully built zipline Logbook cyordereddict bottleneck bcolz Mako sqlalchemy intervaltree lru-dict empyrical trading-calendars wrapt requests-ftp python-editor\n",
            "Installing collected packages: Logbook, requests-file, wrapt, lxml, requests-ftp, pandas-datareader, Cython, cyordereddict, bottleneck, contextlib2, networkx, numexpr, bcolz, click, multipledispatch, Mako, sqlalchemy, python-editor, alembic, sortedcontainers, intervaltree, lru-dict, empyrical, tables, trading-calendars, zipline\n",
            "  Found existing installation: networkx 2.1\n"
          ],
          "name": "stdout"
        },
        {
          "output_type": "stream",
          "text": [
            "    Uninstalling networkx-2.1:\n",
            "      Successfully uninstalled networkx-2.1\n",
            "Successfully installed Cython-0.28.4 Logbook-1.4.0 Mako-1.0.7 alembic-1.0.0 bcolz-0.12.1 bottleneck-1.2.1 click-6.7 contextlib2-0.5.5 cyordereddict-1.0.0 empyrical-0.5.0 intervaltree-2.1.0 lru-dict-1.1.6 lxml-4.2.3 multipledispatch-0.5.0 networkx-1.11 numexpr-2.6.6 pandas-datareader-0.6.0 python-editor-1.0.3 requests-file-1.4.3 requests-ftp-0.3.1 sortedcontainers-2.0.4 sqlalchemy-1.2.10 tables-3.4.4 trading-calendars-1.1.0 wrapt-1.10.11 zipline-1.3.0\n"
          ],
          "name": "stdout"
        }
      ]
    },
    {
      "metadata": {
        "id": "3OQh8dPZpSLd",
        "colab_type": "code",
        "colab": {}
      },
      "cell_type": "code",
      "source": [
        "# 플롯 출력을 위해 강제로 backend를 바꾼다.\n",
        "import matplotlib\n",
        "# Force matplotlib to not use any Xwindows backend.\n",
        "#matplotlib.use('Agg')\n",
        "matplotlib.get_backend()\n",
        "matplotlib.pyplot.switch_backend('Agg')"
      ],
      "execution_count": 0,
      "outputs": []
    },
    {
      "metadata": {
        "id": "FUV2Xx_q3Ldt",
        "colab_type": "code",
        "colab": {}
      },
      "cell_type": "code",
      "source": [
        "# 사용할 라이브러리 import\n",
        "import matplotlib.pyplot as plt\n",
        "import pandas as pd\n",
        "import numpy as np\n",
        "import tensorflow as tf"
      ],
      "execution_count": 0,
      "outputs": []
    },
    {
      "metadata": {
        "id": "23psL4Qv4Qd9",
        "colab_type": "code",
        "colab": {}
      },
      "cell_type": "code",
      "source": [
        "# html에 있는 정보를 읽어온다.\n",
        "# 여기서 가져오는 정보는 종목 코드명이다.\n",
        "code_df = pd.read_html('http://kind.krx.co.kr/corpgeneral/corpList.do?method=download&searchType=13', header=0)[0]"
      ],
      "execution_count": 0,
      "outputs": []
    },
    {
      "metadata": {
        "id": "Ux7FmbOq4Y8Q",
        "colab_type": "code",
        "colab": {
          "base_uri": "https://localhost:8080/",
          "height": 283
        },
        "outputId": "bb5cb5ea-3b5f-45f8-b87a-d99946cb6dbe"
      },
      "cell_type": "code",
      "source": [
        "# 데이터 타입 및 내용 확인\n",
        "print(type(code_df))\n",
        "print(code_df.head())"
      ],
      "execution_count": 10,
      "outputs": [
        {
          "output_type": "stream",
          "text": [
            "<class 'pandas.core.frame.DataFrame'>\n",
            "     회사명   종목코드             업종                         주요제품         상장일  결산월  \\\n",
            "0     CJ   1040         기타 금융업                         지주회사  1973-06-29  12월   \n",
            "1    HDC  12630         건물 건설업  토목공사,건축공사,아파트분양사업,재개발/재건축사업  1996-10-16  12월   \n",
            "2  HSD엔진  82740  일반 목적용 기계 제조업               대형선박용엔진,내연발전엔진  2011-01-04  12월   \n",
            "3  KG케미칼   1390    기초 화학물질 제조업    콘크리트혼화제, 비료, 친환경농자재, 수처리제  1989-08-25  12월   \n",
            "4  LG이노텍  11070       전자부품 제조업                  기타 전자부품 제조업  2008-07-24  12월   \n",
            "\n",
            "            대표자명                         홈페이지     지역  \n",
            "0  손경식, 이재현, 이채욱            http://www.cj.net  서울특별시  \n",
            "1            정몽규        http://www.i-park.com  서울특별시  \n",
            "2            고영열  http://www.doosanengine.com   경상남도  \n",
            "3            김경묵      http://www.kgchem.co.kr  울산광역시  \n",
            "4            박종석   http://www.lginnotek.co.kr  서울특별시  \n"
          ],
          "name": "stdout"
        }
      ]
    },
    {
      "metadata": {
        "id": "IJPiyrgh5f5D",
        "colab_type": "code",
        "colab": {}
      },
      "cell_type": "code",
      "source": [
        "# 종목코드를 균일하게 000000자리로 맞추는 작업을 한다.\n",
        "code_df.종목코드 = code_df.종목코드.map('{:06d}'.format)"
      ],
      "execution_count": 0,
      "outputs": []
    },
    {
      "metadata": {
        "id": "iflydy6L50vs",
        "colab_type": "code",
        "colab": {}
      },
      "cell_type": "code",
      "source": [
        "# 한글로 된 컬럼명을 영어로 바꾼다.\n",
        "code_df = code_df.rename(columns={'회사명':'name', '종목코드':'code'})"
      ],
      "execution_count": 0,
      "outputs": []
    },
    {
      "metadata": {
        "id": "7bi9CURV6B-x",
        "colab_type": "code",
        "colab": {}
      },
      "cell_type": "code",
      "source": [
        "# code_df에서 필요한 컬럼만 뽑아서 새로 code_df를 정의한다.\n",
        "code_df = code_df[['name', 'code']]"
      ],
      "execution_count": 0,
      "outputs": []
    },
    {
      "metadata": {
        "id": "be4jZ4Ug6fd6",
        "colab_type": "code",
        "colab": {}
      },
      "cell_type": "code",
      "source": [
        "# 특정 업체의 코드를 가져오기 위한 함수 정의\n",
        "def get_url(item_name, code_df):\n",
        "    # 코드를 가져오기 위한 처리.\n",
        "    # 먼저 .query(\"name=='{}'\".format(item_name))['code']는 name 컬럼에 item_name과 동일한 값의 code값을 반환한다는 뜻.\n",
        "    # 즉, .query(\"쿼리\".format(쿼리에 넣을 데이터))[얻을 자료]\n",
        "    # .to_string(index = False)로 위에서 얻어진 값에 index를 빼고 string타입으로 바꿔준다.\n",
        "    code = code_df.query(\"name=='{}'\".format(item_name))['code'].to_string(index = False)\n",
        "    # url은 일일 종가 시가 고가 저가 거래량을 보여주는 표이다.\n",
        "    url = 'http://finance.naver.com/item/sise_day.nhn?code={code}'.format(code = code)\n",
        "    print(\"요청 URL = {}\".format(url))\n",
        "    return url"
      ],
      "execution_count": 0,
      "outputs": []
    },
    {
      "metadata": {
        "id": "NxjxxAT17Hmn",
        "colab_type": "code",
        "colab": {
          "base_uri": "https://localhost:8080/",
          "height": 386
        },
        "outputId": "39edba16-fbd7-40c4-d9a3-bc9152d08a8a"
      },
      "cell_type": "code",
      "source": [
        "# 데이터를 확인해본다.\n",
        "code_df['name'][:20]"
      ],
      "execution_count": 15,
      "outputs": [
        {
          "output_type": "execute_result",
          "data": {
            "text/plain": [
              "0          CJ\n",
              "1         HDC\n",
              "2       HSD엔진\n",
              "3       KG케미칼\n",
              "4       LG이노텍\n",
              "5     SH에너지화학\n",
              "6      SK네트웍스\n",
              "7      STX중공업\n",
              "8      WISCOM\n",
              "9     갤럭시아에스엠\n",
              "10     경동도시가스\n",
              "11       고려제강\n",
              "12    골든브릿지증권\n",
              "13       극동유화\n",
              "14     금호에이치티\n",
              "15      까뮤이앤씨\n",
              "16      노루페인트\n",
              "17     녹십자홀딩스\n",
              "18      대덕GDS\n",
              "19     대림씨엔에스\n",
              "Name: name, dtype: object"
            ]
          },
          "metadata": {
            "tags": []
          },
          "execution_count": 15
        }
      ]
    },
    {
      "metadata": {
        "id": "E2oSRO2i8y5W",
        "colab_type": "code",
        "colab": {}
      },
      "cell_type": "code",
      "source": [
        "# code_df.name에서 \"LG\"가 들어간 데이터만 추출한다.\n",
        "lg_list = []\n",
        "for i in range(len(code_df['name'])):\n",
        "  if \"LG\" in code_df['name'][i]:\n",
        "    lg_list.append(code_df.loc[i].tolist())\n",
        "# list = code_df.loc[code_df['name'].str.contains(\"LG\")]  # 이렇게 해도 추출된다. 이후 처리 필요."
      ],
      "execution_count": 0,
      "outputs": []
    },
    {
      "metadata": {
        "id": "12wVvqcm-qu9",
        "colab_type": "code",
        "colab": {}
      },
      "cell_type": "code",
      "source": [
        "# 추출한 데이터를 데이터프레임으로 바꾼다.\n",
        "lg_df = pd.DataFrame(lg_list, columns=['name', 'code'])"
      ],
      "execution_count": 0,
      "outputs": []
    },
    {
      "metadata": {
        "id": "tb7CdsFaCLxE",
        "colab_type": "code",
        "colab": {
          "base_uri": "https://localhost:8080/",
          "height": 314
        },
        "outputId": "bf7156d3-508a-4c28-a507-0b6b29ba35ba"
      },
      "cell_type": "code",
      "source": [
        "# 데이터 확인\n",
        "lg_df"
      ],
      "execution_count": 9,
      "outputs": [
        {
          "output_type": "execute_result",
          "data": {
            "text/html": [
              "<div>\n",
              "<style scoped>\n",
              "    .dataframe tbody tr th:only-of-type {\n",
              "        vertical-align: middle;\n",
              "    }\n",
              "\n",
              "    .dataframe tbody tr th {\n",
              "        vertical-align: top;\n",
              "    }\n",
              "\n",
              "    .dataframe thead th {\n",
              "        text-align: right;\n",
              "    }\n",
              "</style>\n",
              "<table border=\"1\" class=\"dataframe\">\n",
              "  <thead>\n",
              "    <tr style=\"text-align: right;\">\n",
              "      <th></th>\n",
              "      <th>name</th>\n",
              "      <th>code</th>\n",
              "    </tr>\n",
              "  </thead>\n",
              "  <tbody>\n",
              "    <tr>\n",
              "      <th>0</th>\n",
              "      <td>LG이노텍</td>\n",
              "      <td>011070</td>\n",
              "    </tr>\n",
              "    <tr>\n",
              "      <th>1</th>\n",
              "      <td>LG디스플레이</td>\n",
              "      <td>034220</td>\n",
              "    </tr>\n",
              "    <tr>\n",
              "      <th>2</th>\n",
              "      <td>LG하우시스</td>\n",
              "      <td>108670</td>\n",
              "    </tr>\n",
              "    <tr>\n",
              "      <th>3</th>\n",
              "      <td>LG</td>\n",
              "      <td>003550</td>\n",
              "    </tr>\n",
              "    <tr>\n",
              "      <th>4</th>\n",
              "      <td>LG유플러스</td>\n",
              "      <td>032640</td>\n",
              "    </tr>\n",
              "    <tr>\n",
              "      <th>5</th>\n",
              "      <td>LG전자</td>\n",
              "      <td>066570</td>\n",
              "    </tr>\n",
              "    <tr>\n",
              "      <th>6</th>\n",
              "      <td>LG화학</td>\n",
              "      <td>051910</td>\n",
              "    </tr>\n",
              "    <tr>\n",
              "      <th>7</th>\n",
              "      <td>LG상사</td>\n",
              "      <td>001120</td>\n",
              "    </tr>\n",
              "    <tr>\n",
              "      <th>8</th>\n",
              "      <td>LG생활건강</td>\n",
              "      <td>051900</td>\n",
              "    </tr>\n",
              "  </tbody>\n",
              "</table>\n",
              "</div>"
            ],
            "text/plain": [
              "      name    code\n",
              "0    LG이노텍  011070\n",
              "1  LG디스플레이  034220\n",
              "2   LG하우시스  108670\n",
              "3       LG  003550\n",
              "4   LG유플러스  032640\n",
              "5     LG전자  066570\n",
              "6     LG화학  051910\n",
              "7     LG상사  001120\n",
              "8   LG생활건강  051900"
            ]
          },
          "metadata": {
            "tags": []
          },
          "execution_count": 9
        }
      ]
    },
    {
      "metadata": {
        "id": "Oh9wupyMNKqb",
        "colab_type": "code",
        "colab": {}
      },
      "cell_type": "code",
      "source": [
        "# 각 회사별 자료를 사전 타입에 저장을 한다.\n",
        "# 2016~2017 자료를 train, 2018-01-01~2018-07-27까지의 자료를 test로 놓겠다.\n",
        "lg_dict_train = {}  # 저장할 객체\n",
        "lg_dict_test = {}\n",
        "name_list = lg_df.name  # 이름\n",
        "code_list = lg_df.code  # 코드\n",
        "url = 'http://finance.naver.com/item/sise_day.nhn?code='\n"
      ],
      "execution_count": 0,
      "outputs": []
    },
    {
      "metadata": {
        "id": "gSf9xmGoROr8",
        "colab_type": "code",
        "colab": {}
      },
      "cell_type": "code",
      "source": [
        "# 페이지 자료에 맞춰서 데이터를 구분한다.\n",
        "# 시간이 오래 걸림\n",
        "# test 데이터\n",
        "for i in range(len(lg_df.name)):\n",
        "    for page in range(1, 15):  # 1~14페이지까지 2018-01-01~2018-07-27 자료\n",
        "        if page == 1:\n",
        "            df = pd.DataFrame()\n",
        "        pg_url = url + '{code}&page={page}'.format(code = code_list[i], \n",
        "                                                   page = page)  # url을 저장한다.\n",
        "        # 데이터 프레임으로 만든다.\n",
        "        df = df.append(pd.read_html(pg_url, header = 0)[0], ignore_index = True)\n",
        "        if page == 14:  # 전처리 및 저장을 한다.\n",
        "            df = df.rename(columns= {'날짜': 'date', '종가': 'close', \n",
        "             '전일비': 'diff', '시가': 'open', '고가': 'high', \n",
        "             '저가': 'low', '거래량': 'volume'})  # 컬럼명을 바꾼다.\n",
        "            # 결측치 제거 및 오름차순으로 정렬한다.\n",
        "            df = df.sort_values('date', ascending=True).dropna()\n",
        "            lg_dict_test[name_list[i]] = df  # 데이터프레임을 key, value로 저장한다."
      ],
      "execution_count": 0,
      "outputs": []
    },
    {
      "metadata": {
        "id": "wEEVh-6KSeOi",
        "colab_type": "code",
        "colab": {
          "base_uri": "https://localhost:8080/",
          "height": 122
        },
        "outputId": "a6a138f1-e846-4d3c-a0b2-4bb4001e9c04"
      },
      "cell_type": "code",
      "source": [
        "print(lg_dict_test[name_list[0]].head())  # 데이터 확인"
      ],
      "execution_count": 21,
      "outputs": [
        {
          "output_type": "stream",
          "text": [
            "           date     close     diff      open      high       low     volume\n",
            "208  2018.01.04  145000.0   2000.0  148000.0  148500.0  144500.0   186790.0\n",
            "207  2018.01.05  145500.0    500.0  146000.0  148000.0  143000.0   236799.0\n",
            "206  2018.01.08  142000.0   3500.0  148000.0  148500.0  139500.0   471519.0\n",
            "205  2018.01.09  156500.0  14500.0  153500.0  160500.0  149000.0  1239506.0\n",
            "204  2018.01.10  149000.0   7500.0  157000.0  157500.0  147500.0   603263.0\n"
          ],
          "name": "stdout"
        }
      ]
    },
    {
      "metadata": {
        "id": "9BShQhe_W8Hv",
        "colab_type": "code",
        "colab": {}
      },
      "cell_type": "code",
      "source": [
        "# 페이지 자료에 맞춰서 데이터를 구분한다.\n",
        "# 시간 오래 걸림.\n",
        "# train 데이터\n",
        "for i in range(len(lg_df.name)):\n",
        "    for page in range(15, 64):  # 15~64페이지까지 2016~2017 자료\n",
        "        if page == 15:\n",
        "            df = pd.DataFrame()\n",
        "        pg_url = url + '{code}&page={page}'.format(code = code_list[i], \n",
        "                                                   page = page)  # url을 저장한다.\n",
        "        # 데이터 프레임으로 만든다.\n",
        "        df = df.append(pd.read_html(pg_url, header = 0)[0], ignore_index = True)\n",
        "        if page == 63:  # 전처리 및 저장을 한다.\n",
        "            df = df.rename(columns= {'날짜': 'date', '종가': 'close', \n",
        "             '전일비': 'diff', '시가': 'open', '고가': 'high', \n",
        "             '저가': 'low', '거래량': 'volume'})  # 컬럼명을 바꾼다.\n",
        "            # 결측치 제거 및 오름차순으로 정렬한다.\n",
        "            df = df.sort_values('date', ascending=True).dropna()\n",
        "            lg_dict_train[name_list[i]] = df  # 데이터프레임을 key, value로 저장한다."
      ],
      "execution_count": 0,
      "outputs": []
    },
    {
      "metadata": {
        "id": "YAKRRw3ah871",
        "colab_type": "code",
        "colab": {
          "base_uri": "https://localhost:8080/",
          "height": 195
        },
        "outputId": "7962357c-7c72-4f58-cfbb-616a99479603"
      },
      "cell_type": "code",
      "source": [
        "lg_dict_train[name_list[0]].head()  # 데이터 확인"
      ],
      "execution_count": 23,
      "outputs": [
        {
          "output_type": "execute_result",
          "data": {
            "text/html": [
              "<div>\n",
              "<style scoped>\n",
              "    .dataframe tbody tr th:only-of-type {\n",
              "        vertical-align: middle;\n",
              "    }\n",
              "\n",
              "    .dataframe tbody tr th {\n",
              "        vertical-align: top;\n",
              "    }\n",
              "\n",
              "    .dataframe thead th {\n",
              "        text-align: right;\n",
              "    }\n",
              "</style>\n",
              "<table border=\"1\" class=\"dataframe\">\n",
              "  <thead>\n",
              "    <tr style=\"text-align: right;\">\n",
              "      <th></th>\n",
              "      <th>date</th>\n",
              "      <th>close</th>\n",
              "      <th>diff</th>\n",
              "      <th>open</th>\n",
              "      <th>high</th>\n",
              "      <th>low</th>\n",
              "      <th>volume</th>\n",
              "    </tr>\n",
              "  </thead>\n",
              "  <tbody>\n",
              "    <tr>\n",
              "      <th>733</th>\n",
              "      <td>2016.01.05</td>\n",
              "      <td>97500.0</td>\n",
              "      <td>2500.0</td>\n",
              "      <td>95500.0</td>\n",
              "      <td>97900.0</td>\n",
              "      <td>95300.0</td>\n",
              "      <td>197901.0</td>\n",
              "    </tr>\n",
              "    <tr>\n",
              "      <th>732</th>\n",
              "      <td>2016.01.06</td>\n",
              "      <td>92000.0</td>\n",
              "      <td>5500.0</td>\n",
              "      <td>97300.0</td>\n",
              "      <td>97300.0</td>\n",
              "      <td>89800.0</td>\n",
              "      <td>554241.0</td>\n",
              "    </tr>\n",
              "    <tr>\n",
              "      <th>731</th>\n",
              "      <td>2016.01.07</td>\n",
              "      <td>89200.0</td>\n",
              "      <td>2800.0</td>\n",
              "      <td>91400.0</td>\n",
              "      <td>92700.0</td>\n",
              "      <td>89000.0</td>\n",
              "      <td>320017.0</td>\n",
              "    </tr>\n",
              "    <tr>\n",
              "      <th>730</th>\n",
              "      <td>2016.01.08</td>\n",
              "      <td>90500.0</td>\n",
              "      <td>1300.0</td>\n",
              "      <td>88500.0</td>\n",
              "      <td>90500.0</td>\n",
              "      <td>87700.0</td>\n",
              "      <td>144996.0</td>\n",
              "    </tr>\n",
              "    <tr>\n",
              "      <th>729</th>\n",
              "      <td>2016.01.11</td>\n",
              "      <td>88200.0</td>\n",
              "      <td>2300.0</td>\n",
              "      <td>89700.0</td>\n",
              "      <td>89800.0</td>\n",
              "      <td>87800.0</td>\n",
              "      <td>108460.0</td>\n",
              "    </tr>\n",
              "  </tbody>\n",
              "</table>\n",
              "</div>"
            ],
            "text/plain": [
              "           date    close    diff     open     high      low    volume\n",
              "733  2016.01.05  97500.0  2500.0  95500.0  97900.0  95300.0  197901.0\n",
              "732  2016.01.06  92000.0  5500.0  97300.0  97300.0  89800.0  554241.0\n",
              "731  2016.01.07  89200.0  2800.0  91400.0  92700.0  89000.0  320017.0\n",
              "730  2016.01.08  90500.0  1300.0  88500.0  90500.0  87700.0  144996.0\n",
              "729  2016.01.11  88200.0  2300.0  89700.0  89800.0  87800.0  108460.0"
            ]
          },
          "metadata": {
            "tags": []
          },
          "execution_count": 23
        }
      ]
    },
    {
      "metadata": {
        "id": "_xl6tyKnmc4M",
        "colab_type": "code",
        "colab": {
          "base_uri": "https://localhost:8080/",
          "height": 365
        },
        "outputId": "abec5da8-45c4-43dd-e369-1ca610316f2d"
      },
      "cell_type": "code",
      "source": [
        "# 데이터 띄워보기\n",
        "data = lg_dict_train[name_list[0]]\n",
        "x = data.date.tolist()\n",
        "y = data.close.tolist()\n",
        "#print(type(a))\n",
        "#print(data.columns.values)\n",
        "\n",
        "plt.plot(x, y)"
      ],
      "execution_count": 13,
      "outputs": [
        {
          "output_type": "execute_result",
          "data": {
            "text/plain": [
              "[<matplotlib.lines.Line2D at 0x7fcfc8850128>]"
            ]
          },
          "metadata": {
            "tags": []
          },
          "execution_count": 13
        },
        {
          "output_type": "display_data",
          "data": {
            "image/png": "[encoded data removed]",
            "text/plain": [
              "<matplotlib.figure.Figure at 0x7fcfc881c2e8>"
            ]
          },
          "metadata": {
            "tags": []
          }
        }
      ]
    },
    {
      "metadata": {
        "id": "zaFqkab3jzxL",
        "colab_type": "code",
        "colab": {}
      },
      "cell_type": "code",
      "source": [
        "from zipline.api import order, symbol\n",
        "from zipline.algorithm import TradingAlgorithm\n",
        "from datetime import datetime"
      ],
      "execution_count": 0,
      "outputs": []
    },
    {
      "metadata": {
        "id": "a091F3ukmCbE",
        "colab_type": "code",
        "colab": {}
      },
      "cell_type": "code",
      "source": [
        "# 백테스팅 시뮬레이션\n",
        "# initialize, handle_data 함수 만들기\n",
        "def initialize(context):\n",
        "  pass\n",
        "def handle_data(context, data):\n",
        "  order(symbol('close'), 1)  # context로 컬럼 선택, data로 매매 방법을 설정한다.\n",
        "algorithm = TradingAlgorithm(initialize=initialize, handle_data=handle_data)"
      ],
      "execution_count": 0,
      "outputs": []
    },
    {
      "metadata": {
        "id": "1iRpRMj1vm-W",
        "colab_type": "code",
        "colab": {
          "base_uri": "https://localhost:8080/",
          "height": 382
        },
        "outputId": "c70e4e6e-81fa-4269-a012-ce0b88ec1879"
      },
      "cell_type": "code",
      "source": [
        "# 테스트를 위해 하나의 데이터 프레임만 가져와보기.\n",
        "# tz_localize로 시간까지 표현하기\n",
        "data = lg_dict_train[name_list[0]]\n",
        "# 기존 str 데이터를 datetime으로 바꿔준다. 이걸해야지만 zipline이 돌아간다.\n",
        "data['date'] = [datetime.strptime(i, \"%Y.%m.%d\") for i in data.date]\n",
        "data = data.set_index('date')  # 기존 인덱스 0~ 을 date 컬럼을 이용하는 것으로 바꾼다.\n",
        "data.head()  # 데이터 확인.\n",
        "data = data.tz_localize(\"UTC\")  # 시간을 맞춰준다.\n",
        "data.head()  # 데이터 확인"
      ],
      "execution_count": 60,
      "outputs": [
        {
          "output_type": "error",
          "ename": "TypeError",
          "evalue": "ignored",
          "traceback": [
            "\u001b[0;31m---------------------------------------------------------------------------\u001b[0m",
            "\u001b[0;31mTypeError\u001b[0m                                 Traceback (most recent call last)",
            "\u001b[0;32m<ipython-input-60-ae3e489e444a>\u001b[0m in \u001b[0;36m<module>\u001b[0;34m()\u001b[0m\n\u001b[1;32m      1\u001b[0m \u001b[0mdata\u001b[0m \u001b[0;34m=\u001b[0m \u001b[0mlg_dict_train\u001b[0m\u001b[0;34m[\u001b[0m\u001b[0mname_list\u001b[0m\u001b[0;34m[\u001b[0m\u001b[0;36m0\u001b[0m\u001b[0;34m]\u001b[0m\u001b[0;34m]\u001b[0m\u001b[0;34m\u001b[0m\u001b[0m\n\u001b[1;32m      2\u001b[0m \u001b[0;31m# 기존 str 데이터를 datetime으로 바꿔준다. 이걸해야지만 zipline이 돌아간다.\u001b[0m\u001b[0;34m\u001b[0m\u001b[0;34m\u001b[0m\u001b[0m\n\u001b[0;32m----> 3\u001b[0;31m \u001b[0mdata\u001b[0m\u001b[0;34m[\u001b[0m\u001b[0;34m'date'\u001b[0m\u001b[0;34m]\u001b[0m \u001b[0;34m=\u001b[0m \u001b[0;34m[\u001b[0m\u001b[0mdatetime\u001b[0m\u001b[0;34m.\u001b[0m\u001b[0mstrptime\u001b[0m\u001b[0;34m(\u001b[0m\u001b[0mi\u001b[0m\u001b[0;34m,\u001b[0m \u001b[0;34m\"%Y.%m.%d\"\u001b[0m\u001b[0;34m)\u001b[0m \u001b[0;32mfor\u001b[0m \u001b[0mi\u001b[0m \u001b[0;32min\u001b[0m \u001b[0mdata\u001b[0m\u001b[0;34m.\u001b[0m\u001b[0mdate\u001b[0m\u001b[0;34m]\u001b[0m\u001b[0;34m\u001b[0m\u001b[0m\n\u001b[0m\u001b[1;32m      4\u001b[0m \u001b[0mdata\u001b[0m \u001b[0;34m=\u001b[0m \u001b[0mdata\u001b[0m\u001b[0;34m.\u001b[0m\u001b[0mset_index\u001b[0m\u001b[0;34m(\u001b[0m\u001b[0;34m'date'\u001b[0m\u001b[0;34m)\u001b[0m  \u001b[0;31m# 기존 인덱스 0~ 을 date 컬럼을 이용하는 것으로 바꾼다.\u001b[0m\u001b[0;34m\u001b[0m\u001b[0m\n\u001b[1;32m      5\u001b[0m \u001b[0mdata\u001b[0m\u001b[0;34m.\u001b[0m\u001b[0mhead\u001b[0m\u001b[0;34m(\u001b[0m\u001b[0;34m)\u001b[0m  \u001b[0;31m# 데이터 확인.\u001b[0m\u001b[0;34m\u001b[0m\u001b[0m\n",
            "\u001b[0;32m<ipython-input-60-ae3e489e444a>\u001b[0m in \u001b[0;36m<listcomp>\u001b[0;34m(.0)\u001b[0m\n\u001b[1;32m      1\u001b[0m \u001b[0mdata\u001b[0m \u001b[0;34m=\u001b[0m \u001b[0mlg_dict_train\u001b[0m\u001b[0;34m[\u001b[0m\u001b[0mname_list\u001b[0m\u001b[0;34m[\u001b[0m\u001b[0;36m0\u001b[0m\u001b[0;34m]\u001b[0m\u001b[0;34m]\u001b[0m\u001b[0;34m\u001b[0m\u001b[0m\n\u001b[1;32m      2\u001b[0m \u001b[0;31m# 기존 str 데이터를 datetime으로 바꿔준다. 이걸해야지만 zipline이 돌아간다.\u001b[0m\u001b[0;34m\u001b[0m\u001b[0;34m\u001b[0m\u001b[0m\n\u001b[0;32m----> 3\u001b[0;31m \u001b[0mdata\u001b[0m\u001b[0;34m[\u001b[0m\u001b[0;34m'date'\u001b[0m\u001b[0;34m]\u001b[0m \u001b[0;34m=\u001b[0m \u001b[0;34m[\u001b[0m\u001b[0mdatetime\u001b[0m\u001b[0;34m.\u001b[0m\u001b[0mstrptime\u001b[0m\u001b[0;34m(\u001b[0m\u001b[0mi\u001b[0m\u001b[0;34m,\u001b[0m \u001b[0;34m\"%Y.%m.%d\"\u001b[0m\u001b[0;34m)\u001b[0m \u001b[0;32mfor\u001b[0m \u001b[0mi\u001b[0m \u001b[0;32min\u001b[0m \u001b[0mdata\u001b[0m\u001b[0;34m.\u001b[0m\u001b[0mdate\u001b[0m\u001b[0;34m]\u001b[0m\u001b[0;34m\u001b[0m\u001b[0m\n\u001b[0m\u001b[1;32m      4\u001b[0m \u001b[0mdata\u001b[0m \u001b[0;34m=\u001b[0m \u001b[0mdata\u001b[0m\u001b[0;34m.\u001b[0m\u001b[0mset_index\u001b[0m\u001b[0;34m(\u001b[0m\u001b[0;34m'date'\u001b[0m\u001b[0;34m)\u001b[0m  \u001b[0;31m# 기존 인덱스 0~ 을 date 컬럼을 이용하는 것으로 바꾼다.\u001b[0m\u001b[0;34m\u001b[0m\u001b[0m\n\u001b[1;32m      5\u001b[0m \u001b[0mdata\u001b[0m\u001b[0;34m.\u001b[0m\u001b[0mhead\u001b[0m\u001b[0;34m(\u001b[0m\u001b[0;34m)\u001b[0m  \u001b[0;31m# 데이터 확인.\u001b[0m\u001b[0;34m\u001b[0m\u001b[0m\n",
            "\u001b[0;31mTypeError\u001b[0m: strptime() argument 1 must be str, not Timestamp"
          ]
        }
      ]
    },
    {
      "metadata": {
        "id": "OPuqPZYtGnOJ",
        "colab_type": "code",
        "colab": {
          "base_uri": "https://localhost:8080/",
          "height": 435
        },
        "outputId": "2076bc08-8658-4f77-b10a-bc5fbfcb78a2"
      },
      "cell_type": "code",
      "source": [
        "result = algorithm.run(data)"
      ],
      "execution_count": 61,
      "outputs": [
        {
          "output_type": "stream",
          "text": [
            "/usr/local/lib/python3.6/dist-packages/ipykernel_launcher.py:1: DeprecationWarning: \n",
            "Panel is deprecated and will be removed in a future version.\n",
            "The recommended way to represent these types of 3-dimensional data are with a MultiIndex on a DataFrame, via the Panel.to_frame() method\n",
            "Alternatively, you can use the xarray package http://xarray.pydata.org/en/stable/.\n",
            "Pandas provides a `.to_xarray()` method to help automate this conversion.\n",
            "\n",
            "  \"\"\"Entry point for launching an IPython kernel.\n"
          ],
          "name": "stderr"
        },
        {
          "output_type": "error",
          "ename": "AttributeError",
          "evalue": "ignored",
          "traceback": [
            "\u001b[0;31m---------------------------------------------------------------------------\u001b[0m",
            "\u001b[0;31mAttributeError\u001b[0m                            Traceback (most recent call last)",
            "\u001b[0;32m<ipython-input-61-88f271193a1a>\u001b[0m in \u001b[0;36m<module>\u001b[0;34m()\u001b[0m\n\u001b[0;32m----> 1\u001b[0;31m \u001b[0mresult\u001b[0m \u001b[0;34m=\u001b[0m \u001b[0malgorithm\u001b[0m\u001b[0;34m.\u001b[0m\u001b[0mrun\u001b[0m\u001b[0;34m(\u001b[0m\u001b[0mdata\u001b[0m\u001b[0;34m)\u001b[0m\u001b[0;34m\u001b[0m\u001b[0m\n\u001b[0m",
            "\u001b[0;32m/usr/local/lib/python3.6/dist-packages/zipline/algorithm.py\u001b[0m in \u001b[0;36mrun\u001b[0;34m(self, data, overwrite_sim_params)\u001b[0m\n\u001b[1;32m    678\u001b[0m             \u001b[0;32mif\u001b[0m \u001b[0misinstance\u001b[0m\u001b[0;34m(\u001b[0m\u001b[0mdata\u001b[0m\u001b[0;34m,\u001b[0m \u001b[0mpd\u001b[0m\u001b[0;34m.\u001b[0m\u001b[0mPanel\u001b[0m\u001b[0;34m)\u001b[0m\u001b[0;34m:\u001b[0m\u001b[0;34m\u001b[0m\u001b[0m\n\u001b[1;32m    679\u001b[0m                 \u001b[0;31m# Guard against tz-naive index.\u001b[0m\u001b[0;34m\u001b[0m\u001b[0;34m\u001b[0m\u001b[0m\n\u001b[0;32m--> 680\u001b[0;31m                 \u001b[0;32mif\u001b[0m \u001b[0mdata\u001b[0m\u001b[0;34m.\u001b[0m\u001b[0mmajor_axis\u001b[0m\u001b[0;34m.\u001b[0m\u001b[0mtz\u001b[0m \u001b[0;32mis\u001b[0m \u001b[0;32mNone\u001b[0m\u001b[0;34m:\u001b[0m\u001b[0;34m\u001b[0m\u001b[0m\n\u001b[0m\u001b[1;32m    681\u001b[0m                     \u001b[0mdata\u001b[0m\u001b[0;34m.\u001b[0m\u001b[0mmajor_axis\u001b[0m \u001b[0;34m=\u001b[0m \u001b[0mdata\u001b[0m\u001b[0;34m.\u001b[0m\u001b[0mmajor_axis\u001b[0m\u001b[0;34m.\u001b[0m\u001b[0mtz_localize\u001b[0m\u001b[0;34m(\u001b[0m\u001b[0;34m'UTC'\u001b[0m\u001b[0;34m)\u001b[0m\u001b[0;34m\u001b[0m\u001b[0m\n\u001b[1;32m    682\u001b[0m \u001b[0;34m\u001b[0m\u001b[0m\n",
            "\u001b[0;31mAttributeError\u001b[0m: 'Int64Index' object has no attribute 'tz'"
          ]
        }
      ]
    },
    {
      "metadata": {
        "id": "TpZ8ie9rHmUD",
        "colab_type": "code",
        "colab": {}
      },
      "cell_type": "code",
      "source": [
        ""
      ],
      "execution_count": 0,
      "outputs": []
    }
  ]
}